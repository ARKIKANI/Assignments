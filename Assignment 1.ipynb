{
 "cells": [
  {
   "cell_type": "code",
   "execution_count": 19,
   "id": "dff3e23a-365b-4b1b-862d-a2bdeae80a97",
   "metadata": {},
   "outputs": [
    {
     "name": "stdin",
     "output_type": "stream",
     "text": [
      "Enter the percentages:  12\n"
     ]
    },
    {
     "name": "stdout",
     "output_type": "stream",
     "text": [
      "D\n"
     ]
    }
   ],
   "source": [
    "# Q1\n",
    "\n",
    "inp = int(input('Enter the percentages: '))\n",
    "if inp > 90:\n",
    "    print('A')\n",
    "elif inp > 80 and inp <= 90:\n",
    "    print('B')\n",
    "elif inp >= 60 and inp <= 80:\n",
    "    print('C')\n",
    "else:\n",
    "    print('D')"
   ]
  },
  {
   "cell_type": "code",
   "execution_count": 22,
   "id": "fa93f6c3-b9c2-437b-81fa-9b5bc1307f91",
   "metadata": {},
   "outputs": [
    {
     "name": "stdin",
     "output_type": "stream",
     "text": [
      "Enter the cost price :  10000\n"
     ]
    },
    {
     "name": "stdout",
     "output_type": "stream",
     "text": [
      "5%\n"
     ]
    }
   ],
   "source": [
    "# Q2\n",
    "\n",
    "inp = int(input('Enter the cost price : '))\n",
    "if inp > 100000:\n",
    "    print('tax will be 15%')\n",
    "elif inp > 50000 and inp <= 100000:\n",
    "    print('tax will be 10%')\n",
    "elif inp <= 50000:\n",
    "    print('5%')"
   ]
  },
  {
   "cell_type": "code",
   "execution_count": 28,
   "id": "1f0eab09-90d8-496b-9a35-a39b9ba7bd96",
   "metadata": {},
   "outputs": [
    {
     "name": "stdin",
     "output_type": "stream",
     "text": [
      "Enter the city such as delhi,Agra,jaipur :  jaipur\n"
     ]
    },
    {
     "name": "stdout",
     "output_type": "stream",
     "text": [
      "Jal Mahal\n"
     ]
    }
   ],
   "source": [
    "# Q3 \n",
    "\n",
    "city = input('Enter the city such as delhi,Agra,jaipur : ')\n",
    "\n",
    "if city =='Delhi':\n",
    "    print('Red Fort')\n",
    "elif city == 'Agra':\n",
    "        print('Taj Mahal')\n",
    "elif city == 'jaipur':\n",
    "    print('Jal Mahal')\n",
    "else:\n",
    "    print(\"There is no city in database\")"
   ]
  },
  {
   "cell_type": "code",
   "execution_count": 3,
   "id": "8b75424c-cbfd-4bae-b47c-693843f2724d",
   "metadata": {},
   "outputs": [],
   "source": [
    "\n",
    "def divide_by_3(num):\n",
    "    count = 0\n",
    "    while num >= 10:\n",
    "        num = num / 3\n",
    "        count += 1\n",
    "    return count"
   ]
  },
  {
   "cell_type": "code",
   "execution_count": 4,
   "id": "aa7df0a0-8fbd-4b66-b1f3-996b69db5b75",
   "metadata": {},
   "outputs": [
    {
     "data": {
      "text/plain": [
       "2"
      ]
     },
     "execution_count": 4,
     "metadata": {},
     "output_type": "execute_result"
    }
   ],
   "source": [
    "divide_by_3(81)"
   ]
  },
  {
   "cell_type": "markdown",
   "id": "cae0e926-b63e-4aae-b9d8-6dc95b9dd2ea",
   "metadata": {},
   "source": [
    " In Python, a while loop is used when you want to repeat a block of code as long as a certain condition is met.\n",
    " The code inside the loop will be executed repeatedly as long as the condition evaluates to True. When the condition becomes False, the loop will stop and control will be transferred to the next statement after the loop"
   ]
  },
  {
   "cell_type": "code",
   "execution_count": 5,
   "id": "75ae6faa-4fba-4e2e-b68d-60fbf43c897a",
   "metadata": {},
   "outputs": [
    {
     "name": "stdout",
     "output_type": "stream",
     "text": [
      "0\n",
      "1\n",
      "2\n",
      "3\n",
      "4\n"
     ]
    }
   ],
   "source": [
    "count = 0\n",
    "\n",
    "while count < 5:\n",
    "    print(count)\n",
    "    count += 1"
   ]
  },
  {
   "cell_type": "code",
   "execution_count": 11,
   "id": "bba0d255-306e-4193-87c2-ae4648ad6e49",
   "metadata": {},
   "outputs": [
    {
     "name": "stdout",
     "output_type": "stream",
     "text": [
      "*\n",
      "**\n",
      "***\n",
      "****\n",
      "*****\n"
     ]
    }
   ],
   "source": [
    "# Q6 \n",
    "\n",
    "\n",
    "for i in range(1,6):\n",
    "    j = 1\n",
    "    while j <= i:\n",
    "        print(\"*\", end=\"\")\n",
    "        j += 1\n",
    "    print()"
   ]
  },
  {
   "cell_type": "code",
   "execution_count": 7,
   "id": "58355867-1872-41e1-a387-da825f370a53",
   "metadata": {},
   "outputs": [
    {
     "name": "stdout",
     "output_type": "stream",
     "text": [
      "    *\n",
      "   **\n",
      "  ***\n",
      " ****\n",
      "*****\n"
     ]
    }
   ],
   "source": [
    "rows = 5\n",
    "\n",
    "for i in range(1, rows + 1):\n",
    "    for j in range(rows - i):\n",
    "        print(end=\" \")\n",
    "    for k in range(1, i + 1):\n",
    "        print(\"*\", end=\"\")\n",
    "    print()"
   ]
  },
  {
   "cell_type": "code",
   "execution_count": 9,
   "id": "d4785f7b-8a0a-4cd5-95f0-d761b970f8d5",
   "metadata": {},
   "outputs": [
    {
     "name": "stdout",
     "output_type": "stream",
     "text": [
      "    *\n",
      "   **\n",
      "  ***\n",
      " ****\n",
      "*****\n",
      " ****\n",
      "  ***\n",
      "   **\n",
      "    *\n"
     ]
    }
   ],
   "source": [
    "rows = 5\n",
    "\n",
    "for i in range(1, rows * 2):\n",
    "    for j in range(abs(rows - i)):\n",
    "        print(end=\" \")\n",
    "    for k in range(1, (i if i <= rows else rows * 2 - i) + 1):\n",
    "        print(\"*\", end=\"\")\n",
    "    print()"
   ]
  },
  {
   "cell_type": "code",
   "execution_count": 12,
   "id": "89b3c9c2-aad1-4ade-b222-7055983be622",
   "metadata": {},
   "outputs": [
    {
     "name": "stdout",
     "output_type": "stream",
     "text": [
      "10\n",
      "9\n",
      "8\n",
      "7\n",
      "6\n",
      "5\n",
      "4\n",
      "3\n",
      "2\n",
      "1\n"
     ]
    }
   ],
   "source": [
    "# 6\n",
    "\n",
    "count = 10\n",
    "\n",
    "while count >= 1:\n",
    "    print(count)\n",
    "    count -= 1"
   ]
  }
 ],
 "metadata": {
  "kernelspec": {
   "display_name": "Python 3 (ipykernel)",
   "language": "python",
   "name": "python3"
  },
  "language_info": {
   "codemirror_mode": {
    "name": "ipython",
    "version": 3
   },
   "file_extension": ".py",
   "mimetype": "text/x-python",
   "name": "python",
   "nbconvert_exporter": "python",
   "pygments_lexer": "ipython3",
   "version": "3.10.8"
  }
 },
 "nbformat": 4,
 "nbformat_minor": 5
}
